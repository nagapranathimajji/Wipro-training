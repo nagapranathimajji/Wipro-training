{
 "cells": [
  {
   "cell_type": "code",
   "execution_count": 2,
   "id": "af162b66-1bd8-4609-a1e9-aac920bdf629",
   "metadata": {},
   "outputs": [],
   "source": [
    "import math\n",
    "num=int(input(\"Enter:\"))"
   ]
  }
 ],
 "metadata": {
  "kernelspec": {
   "display_name": "Python [conda env:base] *",
   "language": "python",
   "name": "conda-base-py"
  },
  "language_info": {
   "codemirror_mode": {
    "name": "ipython",
    "version": 3
   },
   "file_extension": ".py",
   "mimetype": "text/x-python",
   "name": "python",
   "nbconvert_exporter": "python",
   "pygments_lexer": "ipython3",
   "version": "3.12.7"
  }
 },
 "nbformat": 4,
 "nbformat_minor": 5
}
